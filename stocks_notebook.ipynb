{
 "cells": [
  {
   "attachments": {},
   "cell_type": "markdown",
   "metadata": {},
   "source": [
    "# Stocks Notebook\n",
    "In this notebook we will show how to bulk download stocks historical price data from different sources. This can come from an array, or a text file containing different tickers"
   ]
  },
  {
   "cell_type": "code",
   "execution_count": 1,
   "metadata": {},
   "outputs": [],
   "source": [
    "import os\n",
    "from src.downloader.stocks_downloader import StocksDownloader\n",
    "from dotenv import load_dotenv\n",
    "load_dotenv();"
   ]
  },
  {
   "cell_type": "code",
   "execution_count": 2,
   "metadata": {},
   "outputs": [],
   "source": [
    "# Loading our API key\n",
    "# Contact dmbernaal@gmail.com if you need an API key otherwise use https://site.financialmodelingprep.com/developer/docs\n",
    "API_KEY = os.environ.get('FMP_KEY')"
   ]
  },
  {
   "attachments": {},
   "cell_type": "markdown",
   "metadata": {},
   "source": [
    "## 1. From local Array"
   ]
  },
  {
   "cell_type": "code",
   "execution_count": 3,
   "metadata": {},
   "outputs": [],
   "source": [
    "tickers = [\"ATNF\", \"NMTRQ\", \"ABT\", \"ATGE\", \"AFRM\", \"ABNB\", \"ALIT\", \"ARLP\", \"GOOGL\", \"ALPP\", \"ALPSQ\", \"ASPS\"]"
   ]
  },
  {
   "cell_type": "code",
   "execution_count": 4,
   "metadata": {},
   "outputs": [],
   "source": [
    "# instantiate the downloader\n",
    "downloader = StocksDownloader(\n",
    "    threads=4, # number of threads to use for downloading\n",
    "    progress=True, # show progress bar\n",
    "    fpath='./data/stocks/', # path to save the data\n",
    "    rate_limit_per_minute=300, # rate limit per minute DEFAULT for API\n",
    "    api_key=API_KEY # API key\n",
    ")"
   ]
  },
  {
   "cell_type": "code",
   "execution_count": 5,
   "metadata": {},
   "outputs": [
    {
     "name": "stderr",
     "output_type": "stream",
     "text": [
      "Processing ASPS: 100%|██████████| 12/12 [00:01<00:00, 11.56it/s] \n"
     ]
    }
   ],
   "source": [
    "# download the data\n",
    "# you can change the format to: csv, json, parquet, feather, pickle\n",
    "# for simplicity we will use csv\n",
    "downloader.get(tickers, format='csv')"
   ]
  },
  {
   "attachments": {},
   "cell_type": "markdown",
   "metadata": {},
   "source": [
    "## 2. From .txt file"
   ]
  },
  {
   "cell_type": "code",
   "execution_count": 3,
   "metadata": {},
   "outputs": [],
   "source": [
    "# instantiate the downloader\n",
    "downloader = StocksDownloader(\n",
    "    threads=4, # number of threads to use for downloading\n",
    "    progress=True, # show progress bar\n",
    "    fpath='./data/stocks/', # path to save the data\n",
    "    rate_limit_per_minute=250, # rate limit per minute DEFAULT for API\n",
    "    api_key=API_KEY # API key\n",
    ")"
   ]
  },
  {
   "cell_type": "code",
   "execution_count": 4,
   "metadata": {},
   "outputs": [
    {
     "name": "stderr",
     "output_type": "stream",
     "text": [
      "Processing ZYXI: 100%|██████████| 1783/1783 [07:05<00:00,  4.19it/s] "
     ]
    },
    {
     "name": "stdout",
     "output_type": "stream",
     "text": [
      "Downloaded 1780 out of 1783 tickers. To view failures, call .failures\n"
     ]
    },
    {
     "name": "stderr",
     "output_type": "stream",
     "text": [
      "\n"
     ]
    }
   ],
   "source": [
    "# download the data\n",
    "downloader.from_text('russel_2000.txt', format='csv')"
   ]
  },
  {
   "cell_type": "code",
   "execution_count": 5,
   "metadata": {},
   "outputs": [
    {
     "data": {
      "text/plain": [
       "1730"
      ]
     },
     "execution_count": 5,
     "metadata": {},
     "output_type": "execute_result"
    }
   ],
   "source": [
    "# total downloaded\n",
    "len(downloader.tickers) - len(downloader.failures)"
   ]
  },
  {
   "cell_type": "code",
   "execution_count": 6,
   "metadata": {},
   "outputs": [
    {
     "data": {
      "text/plain": [
       "53"
      ]
     },
     "execution_count": 6,
     "metadata": {},
     "output_type": "execute_result"
    }
   ],
   "source": [
    "# total failures\n",
    "len(downloader.failures)"
   ]
  },
  {
   "cell_type": "code",
   "execution_count": null,
   "metadata": {},
   "outputs": [],
   "source": []
  }
 ],
 "metadata": {
  "kernelspec": {
   "display_name": "odyssey-finance",
   "language": "python",
   "name": "python3"
  },
  "language_info": {
   "codemirror_mode": {
    "name": "ipython",
    "version": 3
   },
   "file_extension": ".py",
   "mimetype": "text/x-python",
   "name": "python",
   "nbconvert_exporter": "python",
   "pygments_lexer": "ipython3",
   "version": "3.12.0"
  },
  "orig_nbformat": 4
 },
 "nbformat": 4,
 "nbformat_minor": 2
}
