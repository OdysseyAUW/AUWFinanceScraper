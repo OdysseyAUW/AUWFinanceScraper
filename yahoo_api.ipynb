{
 "cells": [
  {
   "attachments": {},
   "cell_type": "markdown",
   "metadata": {},
   "source": [
    "# Yahoo Finance API\n",
    "Below contains some utility for downloading stock data in bulk via the yfinance library. \n",
    "\n",
    "## NOTE\n",
    "This is not an ideal solution as the yahoo finance api is no longer maintained and many users run into rate limit errors. The ideal solution would be to use proxies but for the sake of simplicity we will use another API provider. \n",
    "\n",
    "Check notebook ```stocks_notebooks.ipynb``` "
   ]
  },
  {
   "cell_type": "code",
   "execution_count": 1,
   "metadata": {},
   "outputs": [],
   "source": [
    "import pandas\n",
    "import yfinance as yf\n",
    "import os\n",
    "from pathlib import Path\n",
    "from typing import List, Dict, Union, Optional"
   ]
  },
  {
   "cell_type": "code",
   "execution_count": null,
   "metadata": {},
   "outputs": [],
   "source": [
    "FORMATS = [\"csv\", \"json\", \"parquet\", \"feather\", \"arrow\", \"pickle\"]\n",
    "class YFDownloader:\n",
    "    \"\"\"\n",
    "    This class is used to download data from Yahoo Finance API.\n",
    "    ARGS:\n",
    "        interval: str\n",
    "            The interval of the data to download. Default is \"1d\".\n",
    "        threads: int\n",
    "            The number of threads to use for downloading. Default is 2.\n",
    "        progress: bool\n",
    "            Whether to show the progress of the download. Default is True.\n",
    "        fpath: str\n",
    "            The path to save the downloaded data. Default is './data/stocks'.\n",
    "    \"\"\"\n",
    "    def __init__(self, interval: str = \"1d\", threads: int = 2, progress: bool = True, fpath: str = \"./data/stocks\", override: bool = False):\n",
    "        self.interval = interval\n",
    "        self.threads = threads\n",
    "        self.progress = progress\n",
    "        self.fpath = Path(fpath)\n",
    "        self.override = override\n",
    "        self.tickers = []\n",
    "        self._create_dir(self.fpath)\n",
    "\n",
    "    def _create_dir(self, path: str): \n",
    "        if not os.path.exists(path): os.makedirs(path)\n",
    "\n",
    "    def _format_tickers(self, tickers: Union[str, List[str]]) -> str:\n",
    "        if isinstance(tickers, list): self.tickers = tickers\n",
    "        elif isinstance(tickers, str):\n",
    "            tickers = tickers.replace(\",\", \"\").replace(\"\\n\", \" \").strip()\n",
    "            self.tickers = tickers.split(\" \")\n",
    "        return tickers\n",
    "\n",
    "    def _save(self, data: pandas.DataFrame, ticker: str, format: str) -> None:\n",
    "        if format not in FORMATS: raise ValueError(f\"Format {format} not supported, please use one of {FORMATS}\")\n",
    "        fpath = self.fpath / f\"{ticker}.{format}\"\n",
    "        if os.path.exists(fpath) and not self.override: \n",
    "            print(f\"ticker {ticker} already exists, skipping...\")\n",
    "            return\n",
    "        if format == \"csv\": data.to_csv(fpath)\n",
    "        elif format == \"json\": data.to_json(fpath)\n",
    "        elif format == \"parquet\": data.to_parquet(fpath)\n",
    "        elif format == \"feather\": data.to_feather(fpath)\n",
    "        elif format == \"arrow\": data.to_arrow(fpath)\n",
    "        elif format == \"pickle\": data.to_pickle(fpath)\n",
    "\n",
    "    def get(self, tickers: Union[str, List[str]], period: str = \"max\") -> Dict[str, pandas.DataFrame]:\n",
    "        tickers = self._format_tickers(tickers)\n",
    "        if len(self.tickers) > 2000: raise ValueError(f\"Yahoo finance can only process 2000 tickers per hour. Too many tickers have been added, please use less than 2000 tickers\")\n",
    "        data = yf.download(tickers=tickers, period=period, interval=self.interval, group_by=\"ticker\", threads=self.threads, progress=self.progress)\n",
    "        return data\n",
    "    \n",
    "    def download(self, tickers: Union[str, List[str]], period: str = \"max\", format: str = \"csv\") -> None:\n",
    "        try:\n",
    "            data = self.get(tickers=tickers, period=period)\n",
    "            for ticker in self.tickers: self._save(data[ticker], ticker, format)\n",
    "        except Exception as e:\n",
    "            print(f\"Error downloading data: {e}\")"
   ]
  }
 ],
 "metadata": {
  "kernelspec": {
   "display_name": "odyssey-finance",
   "language": "python",
   "name": "python3"
  },
  "language_info": {
   "codemirror_mode": {
    "name": "ipython",
    "version": 3
   },
   "file_extension": ".py",
   "mimetype": "text/x-python",
   "name": "python",
   "nbconvert_exporter": "python",
   "pygments_lexer": "ipython3",
   "version": "3.12.0"
  },
  "orig_nbformat": 4
 },
 "nbformat": 4,
 "nbformat_minor": 2
}
